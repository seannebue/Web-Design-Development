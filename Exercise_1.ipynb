{
  "nbformat": 4,
  "nbformat_minor": 0,
  "metadata": {
    "colab": {
      "name": "Exercise 1.ipynb",
      "provenance": [],
      "authorship_tag": "ABX9TyPiT2EksldQuOkW5vvgOfxJ",
      "include_colab_link": true
    },
    "kernelspec": {
      "name": "python3",
      "display_name": "Python 3"
    },
    "language_info": {
      "name": "python"
    }
  },
  "cells": [
    {
      "cell_type": "markdown",
      "metadata": {
        "id": "view-in-github",
        "colab_type": "text"
      },
      "source": [
        "<a href=\"https://colab.research.google.com/github/seannebue/Web-Design-Development-58043/blob/main/Exercise_1.ipynb\" target=\"_parent\"><img src=\"https://colab.research.google.com/assets/colab-badge.svg\" alt=\"Open In Colab\"/></a>"
      ]
    },
    {
      "cell_type": "code",
      "execution_count": 1,
      "metadata": {
        "colab": {
          "base_uri": "https://localhost:8080/"
        },
        "id": "EAKkKYxeS60o",
        "outputId": "a9da3470-59e2-40e9-fc71-dee375227baf"
      },
      "outputs": [
        {
          "output_type": "stream",
          "name": "stdout",
          "text": [
            "Please enter the radius of a circle: 25\n",
            "Area of a circle = 1962.50\n"
          ]
        }
      ],
      "source": [
        "PI = 3.14\n",
        "rad = float(input('Please enter the radius of a circle: '))\n",
        "area = PI * rad * rad\n",
        "circum = 2 * PI * rad\n",
        "\n",
        "print(\"Area of a circle = %.2f\" %area)\n"
      ]
    },
    {
      "cell_type": "code",
      "source": [
        "import math as M\n",
        "rad = float(input('Please enter the radius of a circle: '))\n",
        "area = M.pi * rad * rad\n",
        "\n",
        "print('Area of the given circle is: ', area)"
      ],
      "metadata": {
        "colab": {
          "base_uri": "https://localhost:8080/"
        },
        "id": "A4GIcZ9Jp9rv",
        "outputId": "ac2dbcdd-1022-4523-c53e-83fb89a246a4"
      },
      "execution_count": 2,
      "outputs": [
        {
          "output_type": "stream",
          "name": "stdout",
          "text": [
            "Please enter the radius of a circle: 5\n",
            "Area of the given circle is:  78.53981633974483\n"
          ]
        }
      ]
    }
  ]
}